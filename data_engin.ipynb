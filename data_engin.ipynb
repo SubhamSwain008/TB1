{
 "cells": [
  {
   "cell_type": "code",
   "execution_count": 1,
   "id": "f6a478c9",
   "metadata": {},
   "outputs": [
    {
     "name": "stderr",
     "output_type": "stream",
     "text": [
      "2025-09-12 18:43:03.604521: I tensorflow/core/util/port.cc:110] oneDNN custom operations are on. You may see slightly different numerical results due to floating-point round-off errors from different computation orders. To turn them off, set the environment variable `TF_ENABLE_ONEDNN_OPTS=0`.\n",
      "2025-09-12 18:43:03.662878: I tensorflow/core/platform/cpu_feature_guard.cc:182] This TensorFlow binary is optimized to use available CPU instructions in performance-critical operations.\n",
      "To enable the following instructions: AVX2 AVX512F AVX512_VNNI FMA, in other operations, rebuild TensorFlow with the appropriate compiler flags.\n",
      "2025-09-12 18:43:04.570552: W tensorflow/compiler/tf2tensorrt/utils/py_utils.cc:38] TF-TRT Warning: Could not find TensorRT\n",
      "Device set to use cuda:2\n",
      "Using `chunk_length_s` is very experimental with seq2seq models. The results will not necessarily be entirely accurate and will have caveats. More information: https://github.com/huggingface/transformers/pull/20104. Ignore this warning with pipeline(..., ignore_warning=True). To use Whisper for long-form transcription, use rather the model's `generate` method directly as the model relies on it's own chunking mechanism (cf. Whisper original paper, section 3.8. Long-form Transcription).\n"
     ]
    }
   ],
   "source": [
    "import torch\n",
    "from transformers import pipeline\n",
    "from datasets import load_dataset\n",
    "\n",
    "device = \"cuda:2\" if torch.cuda.is_available() else \"cpu\"\n",
    "\n",
    "pipe = pipeline(\n",
    "  \"automatic-speech-recognition\",\n",
    "  model=\"collabora/whisper-medium-hindi\",\n",
    "  chunk_length_s=30,\n",
    "  device=device,\n",
    ")\n"
   ]
  },
  {
   "cell_type": "code",
   "execution_count": null,
   "id": "a3fee634",
   "metadata": {},
   "outputs": [],
   "source": [
    "ds = load_dataset(\"Sparsh7/Sanyam_Hindi\", split=\"train\")\n",
    "# sample = ds[2][\"audio\"]\n"
   ]
  },
  {
   "cell_type": "code",
   "execution_count": null,
   "id": "2227f1ad",
   "metadata": {},
   "outputs": [],
   "source": [
    "ds['audio']"
   ]
  },
  {
   "cell_type": "code",
   "execution_count": 1,
   "id": "26d64e66",
   "metadata": {},
   "outputs": [
    {
     "name": "stdout",
     "output_type": "stream",
     "text": [
      "[youtube] Extracting URL: https://youtube.com/shorts/qPVA_xQfp6A?si=7phf4V09Vh7x0KrN\n",
      "[youtube] qPVA_xQfp6A: Downloading webpage\n",
      "[youtube] qPVA_xQfp6A: Downloading tv simply player API JSON\n",
      "[youtube] qPVA_xQfp6A: Downloading tv client config\n",
      "[youtube] qPVA_xQfp6A: Downloading tv player API JSON\n",
      "[info] qPVA_xQfp6A: Downloading 1 format(s): 251\n",
      "[download] Sleeping 4.00 seconds as required by the site...\n",
      "[download] Destination: downloads/Yeh Baburao Ka Style Hai👋🏻😎😂 #PareshRawal #AkshayKumar #HeraPheri #Comedy #Shorts.webm\n",
      "[download] 100% of  323.26KiB in 00:00:00 at 420.37KiB/s \n",
      "[ExtractAudio] Destination: downloads/Yeh Baburao Ka Style Hai👋🏻😎😂 #PareshRawal #AkshayKumar #HeraPheri #Comedy #Shorts.mp3\n",
      "Deleting original file downloads/Yeh Baburao Ka Style Hai👋🏻😎😂 #PareshRawal #AkshayKumar #HeraPheri #Comedy #Shorts.webm (pass -k to keep)\n"
     ]
    }
   ],
   "source": [
    "import yt_dlp\n",
    "\n",
    "def download_audio(url, output_path=\"downloads\"):\n",
    "    ydl_opts = {\n",
    "        'format': 'bestaudio/best',\n",
    "        'outtmpl': f'{output_path}/%(title)s.%(ext)s',\n",
    "        'postprocessors': [{\n",
    "            'key': 'FFmpegExtractAudio',\n",
    "            'preferredcodec': 'mp3',   # can be \"wav\", \"m4a\" etc.\n",
    "            'preferredquality': '192',\n",
    "        }],\n",
    "    }\n",
    "    with yt_dlp.YoutubeDL(ydl_opts) as ydl:\n",
    "        ydl.download([url])\n",
    "\n",
    "# Example usage\n",
    "download_audio(\"https://youtube.com/shorts/qPVA_xQfp6A?si=7phf4V09Vh7x0KrN\")\n"
   ]
  },
  {
   "cell_type": "code",
   "execution_count": null,
   "id": "8894fd85",
   "metadata": {},
   "outputs": [],
   "source": [
    "arr=ds['audio'][2]['array']"
   ]
  },
  {
   "cell_type": "code",
   "execution_count": null,
   "id": "474a7514",
   "metadata": {},
   "outputs": [],
   "source": [
    "import soundfile as sf\n",
    "\n",
    "sf.write(\"out.wav\",arr, 16000)  # 16kHz sample rate\n"
   ]
  },
  {
   "cell_type": "code",
   "execution_count": null,
   "id": "b63800d9",
   "metadata": {},
   "outputs": [],
   "source": [
    "# ds[2][\"transcription\"]"
   ]
  },
  {
   "cell_type": "code",
   "execution_count": 2,
   "id": "85041c56",
   "metadata": {},
   "outputs": [
    {
     "name": "stderr",
     "output_type": "stream",
     "text": [
      "`generation_config` default values have been modified to match model-specific defaults: {'suppress_tokens': [], 'begin_suppress_tokens': [220, 50257]}. If this is not desired, please set these values explicitly.\n",
      "A custom logits processor of type <class 'transformers.generation.logits_process.SuppressTokensLogitsProcessor'> has been passed to `.generate()`, but it was also created in `.generate()`, given its parameterization. The custom <class 'transformers.generation.logits_process.SuppressTokensLogitsProcessor'> will take precedence. Please check the docstring of <class 'transformers.generation.logits_process.SuppressTokensLogitsProcessor'> to see related `.generate()` flags.\n",
      "A custom logits processor of type <class 'transformers.generation.logits_process.SuppressTokensAtBeginLogitsProcessor'> has been passed to `.generate()`, but it was also created in `.generate()`, given its parameterization. The custom <class 'transformers.generation.logits_process.SuppressTokensAtBeginLogitsProcessor'> will take precedence. Please check the docstring of <class 'transformers.generation.logits_process.SuppressTokensAtBeginLogitsProcessor'> to see related `.generate()` flags.\n"
     ]
    }
   ],
   "source": [
    "# prediction = pipe(sample.copy(), batch_size=8)[\"text\"]\n",
    "\n",
    "# we can also return timestamps for the predictions\n",
    "# prediction = pipe(sample.copy(), batch_size=2, return_timestamps=True)[\"chunks\"]\n",
    "\n",
    "prediction = pipe(\"/Data/deepakkumar/Subham_work/downloads/srk/vocals.wav\",return_timestamps=True)"
   ]
  },
  {
   "cell_type": "code",
   "execution_count": 3,
   "id": "138db17f",
   "metadata": {},
   "outputs": [
    {
     "data": {
      "text/plain": [
       "{'text': ' देव बाबू क्या हुआ देव बाबू देव बाबू ऐसे भी क्या बेरुखी है देव बाबू की हम आपको छू भी नहीं सकते अगर यही बात थी तो क्यों आये हमारी ज़िन्दगी में हम भी खुश थे अपनी तन्हाई में क्यों मसीहा बनकर हमारे दर्द को और बढ़ा रहे हो क्यों चंद्रमुखी देखा चली गई ना खांसी अगर ध्यान बदल दो तो गहरे से गहरा जख्म भी भर सकता है देव बाबू वही तो कर रहे हैं बस कल बहुत पी चुके थे फिर यही कह दिया होता बहुत जी चुकी कैसे कह दूं तुम्हारे पास तो पारो है पारो की यादें हैं मेरे पास तो सिर्फ तुम हो पारसमणि जिसे छू के लोहा भी सोना बन जाता है अपने कीमत बढ़ा रही हो या मेरी रिश्तों के दुनिया में तबाही की कीमत ही क्या होती है कुछ भी नहीं और वैसे भी आपने तो हमें छूने का अधिकार ही नहीं दिया इश्क कर दिया वो तो यही पूछ लिया होता सांसे लेती हो चंद्रमुखी सांसे लेती हो चंद्रमुखी सांसे लेती हो चंद्रमुखी क्या पाओगी ना मेरे पास घर है न दिल सिर्फ पानी का नाम ही तो प्यार नहीं है न देवबाबू प्यार का कारोबार तो बहुत बार किया है मगर प्यार सिर्फ एक बार चंद्रमुखी इस भरे पैमाने में और शराब डालो की तो क्या होगा छलकर जमीन पर आके रहेगी हम्म इसी तरह पारों के नाम से भरा पड़ा है यह पैमाना देवदास भी और भरोसे तो छलक जाएगा खुद तो गिरेगा तुम्हें भी गिरा देगा पर जमीन पर गिरी शराब को देखकर लोग तो यही कहेंगे ना कि पैमाने को छू कर निकले चल कर दो पारो बदनामी फैला दूं क्या उस वक्त बदनाम हो जाते तो शायद हमारा नाम एक हो जाता तुम खुश तो हो ना पा रहो अरे वहां की तो बात ही कुछ और है देव बड़ा मकान बड़ी जमींदारी बड़े-बड़े लोग बड़ी-बड़ी बातें बड़ी बातें बहुत बड़ी हो गई हो तुम पारो पक्की ठकराइन दिखती हो बड़ा बड़ा सिंदूर बड़ी बड़ी आंखें उन बड़ी बड़ी आंखों में पड़े-पड़े सपने, बड़ा बड़ा मकान बड़ी समीदारी और बड़े-बड़े पारो बच्चे पारो पारो मैं ये बड़ीबड़ी आंखें देख सकता हूं पर नाको में बड़े-बड़े आंसू नहीं देख सकता अच्छा हुआ तुम आ गई मेरे पास तुम्हारी कुछ चीजें हैं जो मैं लौट आना �ाहता हूँ फिर इस इस हवेली में आऊं न आओ पारु आओ मेरे साथ आओ इधर इधर इधर कर लो इधर हम्म देखो ये तुम्हारी ये देखो पारु अपने आप से मिलो हम्म याद आया अरे तुम्हारी ये देखो पारो अपने आप से मिलो याद आया अरे तुम अरेयो देवा! क्या हुआ पारो देवा वो मेरी पायल घूम गयी है तुम्हे मिली क्या न मुझे तो नह मिली मैंने ही छुपा दी थी और तुम्हे भी मालूम था की मैंने ही छुपा ही है और क्यों सारा दिन हवेली में चम चम चम देवा ये देवा वो देवा देवा और ये ये वो कलसी और ये देखो ये हमारे प्यार और जुदाई की निशानी तुम तो गाँव छोड़ कर रिश्ते नाते तोड़ कर चले गए पर मैं मैं अभी भी इनसे बंधा हुआ हूँ ये और तुम्हारी यादें मेरे दामन से हैं ये क्या हैं छंद सिक्के तीन रुपये जिससे सिर्फ यादें खरीदी जा सकती हैं ये तो मेरे हैं तुम चोर चोर अब इन्हें वापस भी लूँगा तो मैं सूद के साथ वापस लूँगा पर कितना सूद लोगे वहीं दो टक दो टके के हिसाब से हो गया महीने एक अच्छे साल कबातर और और तेरा साल तेरा साल बा� नौ रुपये छत्तीस पैसे हिसाब के बड़े पक्के हो गए हो तुम वक़्त ने सिखा दिया पर्व छोड़ो कोई और बात करते अः ऐसा करते हैं तुम तुम पर्व पंडित बन जाओ और देवदास के लिए एक रिश्ता ढूंढो सुना है तुम्हारे मानिकपुर में लड़कियां बहुत अच्छी हैं हाँ है तो पर तुम्हे तो सुन्दर चाहिए न दीप अरे नई नई सुन्दर नहीं चाहिए तुम्हारी जैसी चाहिए और सुशील भी हो न थोड़ी सी तो दुष्ट होनी चाहिए जो बात वात पर मुझसे झगड़ा कर सके कहा न तुम्हारी जैसी होनी चाहिए ऐसी तो हजार मिल सकती है देवी अरे बाबा हजार नहीं चाहिए तुम्हारी जैसी एक ही संभाल लूं काफी है शराब पीना छोड़ दो देव छोड़ दो देव न कोशिश तो करो न छोड़ सकते हो वादा करो कि आज के बाद तुम शराब नहीं पिओगी तुम वादा कर सकती हो कि तुम मुझे बुला दो बहुत देर हो चुकी है बारह जब तक तू वादा नहीं करते मैं हंसी नहीं जाऊंगी मैं नहीं कर सकता वादा कर सकते हो इंसान कर चाहे तो सब कुछ कर सकता है क्या आज रात को मेरा हाथ थाम के तू मेरे साथ भाग सकती हो ये तू क्या कह रहा है क्या मेरे हाथ थाम के तू मे साथ भाग सकती हो देखो यहाँ तुम्हारी देखभाल करने वाला कोई नहीं है देखो मेरे हाथ थाम सकती हूँ बचपन से लेकर आज तक मेरा एक ही सपना रहा है कि तुम्हारे साथ रहूँ तुम्हारी सेवा करो परवाह नहीं होती मेरा वो सपना अधूरा है एक मौका दो दे मेरे साथ मेरे घर चलो मैं तुम्हारी देख पाती हूँ उसे तुम्हारी हालत देख ही नहीं जाती मेरा दम घुट रहा है देव मेरा दम घुट रहा है ठीक है। अगर मेरी सेवा करने से तुम्हारे दिल को खुशी मिलती तो ठीक है। मैं वादा करता हूँ मरने से पहले एक बार तुम्हारी चौकट पर जरूर रहूँ। मुझे मुझे छू कर कसम कहो हम्म�म्हारी मां अगर दान पुण्य इसी तरह से चलता रहा न तो बहुत जल्दी हवेली की तिजोरी पे कौए बैठने लगेंगे तुम्हारी बात बिलकुल सच है कुमोद पर मैं माँ को कैसे रोक सकता हूँ तुम्हे एक दम बुकारे बाबा तुम नहीं रोक सकती लेकिन मैं तो रोक सकती हूँ तुम रोकोगी पर कैसे तिजोरी की चाभियाँ तुम्हारे पास माँ कब से ढूंढ रही थी लाओ मैं उमोद तिजोरी की चाभियाँ मैंने छुपाई हैं अगर कोई तुमसे पूछे तो तुम यह कहोगे की चाभियाँ खो गई हैं क्या तिजोरी की चाभियाँ खो गई हैं और तिजोरी में से सारी दौलत भी गायब हो गई है चाबियां हॉट दौलत अरे देवर जी आप इतनी सुबह सुबह कचेरी में और ये शराब आपको इस हवेली की इज्जत का कोई ख्याल है या नहीं लोग क्या कहेंगे माँ क्या सोचेंगी चाभिया चुराते वक्त आपने ये नही सोचा की लोग क्या कहेंगे छोटी माँ क्या सोचेगी पुरखों की दौलत है ये इस तरह शराब में नही लुटाते देव पुरखों की चाभिया है ये इस तरह नही चुराते एक बात में कह देती हूँ चाभिया तो में किसी हालत में किसी को नहीं दूंगी हम्म हम्म चाभिया तो आप देंगी ही आज ही अभी इसी कमरे में हम्म',\n",
       " 'chunks': [{'timestamp': (0.0, 31.88),\n",
       "   'text': ' देव बाबू क्या हुआ देव बाबू देव बाबू ऐसे भी क्या बेरुखी है देव बाबू की हम आपको छू भी नहीं सकते अगर यही बात थी तो क्यों आये हमारी ज़िन्दगी में हम भी खुश थे अपनी तन्हाई में क्यों मसीहा बनकर हमारे दर्द को और बढ़ा रहे हो क्यों चंद्रमुखी देखा चली गई ना खांसी अगर ध्यान बदल'},\n",
       "  {'timestamp': (31.88, 55.12),\n",
       "   'text': ' दो तो गहरे से गहरा जख्म भी भर सकता है देव बाबू वही तो कर रहे हैं बस कल बहुत पी चुके थे फिर यही कह दिया होता बहुत जी चुकी कैसे कह दूं तुम्हारे पास तो पारो है पारो की यादें हैं मेरे पास तो सिर्फ तुम हो'},\n",
       "  {'timestamp': (55.12, 74.52),\n",
       "   'text': ' पारसमणि जिसे छू के लोहा भी सोना बन जाता है अपने कीमत बढ़ा रही हो या मेरी रिश्तों के दुनिया में तबाही की कीमत ही क्या होती है कुछ भी नहीं और वैसे भी आपने तो हमें छूने का अधिकार ही नहीं दिया'},\n",
       "  {'timestamp': (74.52, 79.6), 'text': ' इश्क कर दिया वो तो'},\n",
       "  {'timestamp': (79.6, 84.84),\n",
       "   'text': ' यही पूछ लिया होता सांसे लेती हो चंद्रमुखी'},\n",
       "  {'timestamp': (84.84, 89.6),\n",
       "   'text': ' सांसे लेती हो चंद्रमुखी सांसे लेती हो चंद्रमुखी'},\n",
       "  {'timestamp': (89.6, 97.44), 'text': ' क्या पाओगी ना मेरे पास घर है न दिल'},\n",
       "  {'timestamp': (97.44, 109.48),\n",
       "   'text': ' सिर्फ पानी का नाम ही तो प्यार नहीं है न देवबाबू प्यार का कारोबार तो बहुत बार किया है मगर प्यार सिर्फ एक बार'},\n",
       "  {'timestamp': (109.48, 116.98),\n",
       "   'text': ' चंद्रमुखी इस भरे पैमाने में और शराब डालो की तो क्या होगा'},\n",
       "  {'timestamp': (116.98, 121.48), 'text': ' छलकर जमीन पर आके रहेगी'},\n",
       "  {'timestamp': (121.48, 139.8),\n",
       "   'text': ' हम्म इसी तरह पारों के नाम से भरा पड़ा है यह पैमाना देवदास भी और भरोसे तो छलक जाएगा खुद तो गिरेगा तुम्हें भी गिरा देगा'},\n",
       "  {'timestamp': (139.8, 166.36),\n",
       "   'text': ' पर जमीन पर गिरी शराब को देखकर लोग तो यही कहेंगे ना कि पैमाने को छू कर निकले चल कर दो'},\n",
       "  {'timestamp': (166.36, 181.84), 'text': ' पारो बदनामी फैला दूं क्या'},\n",
       "  {'timestamp': (181.84, 191.92),\n",
       "   'text': ' उस वक्त बदनाम हो जाते तो शायद हमारा नाम एक हो जाता तुम खुश तो हो ना पा रहो'},\n",
       "  {'timestamp': (191.92, 199.82),\n",
       "   'text': ' अरे वहां की तो बात ही कुछ और है देव बड़ा मकान बड़ी जमींदारी बड़े-बड़े लोग बड़ी-बड़ी बातें'},\n",
       "  {'timestamp': (199.82, 214.0),\n",
       "   'text': ' बड़ी बातें बहुत बड़ी हो गई हो तुम पारो पक्की ठकराइन दिखती हो बड़ा बड़ा सिंदूर बड़ी बड़ी आंखें उन बड़ी बड़ी आंखों में पड़े-पड़े सपने,'},\n",
       "  {'timestamp': (214.0, 235.76),\n",
       "   'text': ' बड़ा बड़ा मकान बड़ी समीदारी और बड़े-बड़े पारो बच्चे पारो पारो मैं ये बड़ीबड़ी आंखें देख सकता हूं पर नाको में बड़े-बड़े आंसू नहीं देख सकता'},\n",
       "  {'timestamp': (235.76, 252.72),\n",
       "   'text': ' अच्छा हुआ तुम आ गई मेरे पास तुम्हारी कुछ चीजें हैं जो मैं लौट आना �ाहता हूँ फिर इस इस हवेली में आऊं न आओ पारु आओ मेरे साथ आओ'},\n",
       "  {'timestamp': (252.72, 277.0),\n",
       "   'text': ' इधर इधर इधर कर लो इधर हम्म देखो ये तुम्हारी ये देखो पारु अपने आप से मिलो हम्म याद आया अरे तुम्हारी ये देखो पारो अपने आप से मिलो याद आया अरे तुम अरेयो देवा!'},\n",
       "  {'timestamp': (277.0, 294.52),\n",
       "   'text': ' क्या हुआ पारो देवा वो मेरी पायल घूम गयी है तुम्हे मिली क्या न मुझे तो नह मिली मैंने ही छुपा दी थी और तुम्हे भी मालूम था की मैंने ही छुपा ही है और क्यों सारा दिन हवेली में चम चम चम'},\n",
       "  {'timestamp': (294.52, 309.6),\n",
       "   'text': ' देवा ये देवा वो देवा देवा और ये ये वो कलसी और ये देखो ये हमारे प्यार और जुदाई की निशानी तुम तो गाँव छोड़ कर रिश्ते नाते तोड़ कर चले गए पर मैं मैं अभी भी इनसे बंधा हुआ हूँ ये'},\n",
       "  {'timestamp': (309.6, 321.96),\n",
       "   'text': ' और तुम्हारी यादें मेरे दामन से हैं ये क्या हैं छंद सिक्के तीन रुपये जिससे सिर्फ यादें खरीदी जा सकती हैं ये तो मेरे हैं तुम चोर चोर'},\n",
       "  {'timestamp': (321.96, 328.04),\n",
       "   'text': ' अब इन्हें वापस भी लूँगा तो मैं सूद के साथ वापस लूँगा पर'},\n",
       "  {'timestamp': (328.04, 329.48), 'text': ' कितना सूद लोगे'},\n",
       "  {'timestamp': (329.48, 347.52),\n",
       "   'text': ' वहीं दो टक दो टके के हिसाब से हो गया महीने एक अच्छे साल कबातर और और तेरा साल तेरा साल बा� नौ रुपये छत्तीस पैसे'},\n",
       "  {'timestamp': (347.52, 351.24), 'text': ' हिसाब के बड़े पक्के हो गए हो तुम'},\n",
       "  {'timestamp': (351.24, 354.48), 'text': ' वक़्त ने सिखा दिया पर्व'},\n",
       "  {'timestamp': (354.48, 371.94),\n",
       "   'text': ' छोड़ो कोई और बात करते अः ऐसा करते हैं तुम तुम पर्व पंडित बन जाओ और देवदास के लिए एक रिश्ता ढूंढो सुना है तुम्हारे मानिकपुर में लड़कियां बहुत अच्छी हैं हाँ है तो पर तुम्हे तो सुन्दर चाहिए न दीप'},\n",
       "  {'timestamp': (371.94, 392.5),\n",
       "   'text': ' अरे नई नई सुन्दर नहीं चाहिए तुम्हारी जैसी चाहिए और सुशील भी हो न थोड़ी सी तो दुष्ट होनी चाहिए जो बात वात पर मुझसे झगड़ा कर सके कहा न तुम्हारी जैसी होनी चाहिए ऐसी तो हजार मिल सकती है देवी अरे बाबा हजार नहीं चाहिए तुम्हारी जैसी एक ही संभाल लूं काफी है'},\n",
       "  {'timestamp': (392.5, 406.22),\n",
       "   'text': ' शराब पीना छोड़ दो देव छोड़ दो देव न कोशिश तो करो न छोड़ सकते हो वादा करो कि आज के बाद तुम शराब नहीं पिओगी तुम वादा कर सकती हो कि तुम मुझे बुला दो'},\n",
       "  {'timestamp': (406.22, 411.94), 'text': ' बहुत देर हो चुकी है बारह'},\n",
       "  {'timestamp': (411.94, 432.52),\n",
       "   'text': ' जब तक तू वादा नहीं करते मैं हंसी नहीं जाऊंगी मैं नहीं कर सकता वादा कर सकते हो इंसान कर चाहे तो सब कुछ कर सकता है क्या आज रात को मेरा हाथ थाम के तू मेरे साथ भाग सकती हो ये तू क्या कह रहा है क्या मेरे हाथ थाम के तू मे साथ भाग सकती हो देखो यहाँ तुम्हारी देखभाल करने वाला कोई नहीं है देखो मेरे हाथ थाम सकती हूँ बचपन से लेकर आज तक मेरा एक ही सपना रहा है कि तुम्हारे साथ रहूँ तुम्हारी सेवा करो'},\n",
       "  {'timestamp': (432.52, 445.08),\n",
       "   'text': ' परवाह नहीं होती मेरा वो सपना अधूरा है एक मौका दो दे मेरे साथ मेरे घर चलो मैं तुम्हारी देख पाती हूँ उसे तुम्हारी हालत देख ही नहीं जाती मेरा दम घुट रहा है देव मेरा दम घुट रहा है'},\n",
       "  {'timestamp': (445.08, 462.0),\n",
       "   'text': ' ठीक है। अगर मेरी सेवा करने से तुम्हारे दिल को खुशी मिलती तो ठीक है। मैं वादा करता हूँ मरने से पहले एक बार तुम्हारी चौकट पर जरूर रहूँ।'},\n",
       "  {'timestamp': (462.0, 468.48), 'text': ' मुझे मुझे छू कर कसम कहो'},\n",
       "  {'timestamp': (468.48, 506.36),\n",
       "   'text': ' हम्म�म्हारी मां अगर दान पुण्य इसी तरह से चलता रहा न तो बहुत जल्दी हवेली की तिजोरी पे कौए बैठने लगेंगे'},\n",
       "  {'timestamp': (506.36, 510.56),\n",
       "   'text': ' तुम्हारी बात बिलकुल सच है कुमोद पर मैं माँ को कैसे रोक सकता हूँ'},\n",
       "  {'timestamp': (510.56, 519.56),\n",
       "   'text': ' तुम्हे एक दम बुकारे बाबा तुम नहीं रोक सकती लेकिन मैं तो रोक सकती हूँ'},\n",
       "  {'timestamp': (519.56, 532.42),\n",
       "   'text': ' तुम रोकोगी पर कैसे तिजोरी की चाभियाँ तुम्हारे पास माँ कब से ढूंढ रही थी लाओ मैं उमोद'},\n",
       "  {'timestamp': (532.42, 574.82),\n",
       "   'text': ' तिजोरी की चाभियाँ मैंने छुपाई हैं अगर कोई तुमसे पूछे तो तुम यह कहोगे की चाभियाँ खो गई हैं क्या तिजोरी की चाभियाँ खो गई हैं और तिजोरी में से सारी दौलत भी गायब हो गई है चाबियां हॉट दौलत अरे देवर जी आप इतनी सुबह सुबह कचेरी में और ये शराब आपको इस हवेली की इज्जत का कोई ख्याल है या नहीं लोग क्या कहेंगे माँ क्या सोचेंगी चाभिया चुराते वक्त आपने ये नही सोचा की लोग क्या कहेंगे छोटी माँ क्या सोचेगी'},\n",
       "  {'timestamp': (574.82, 600.0),\n",
       "   'text': ' पुरखों की दौलत है ये इस तरह शराब में नही लुटाते देव पुरखों की चाभिया है ये इस तरह नही चुराते एक बात में कह देती हूँ चाभिया तो में किसी हालत में किसी को नहीं दूंगी हम्म हम्म चाभिया तो आप देंगी ही आज ही अभी इसी कमरे में हम्म'}]}"
      ]
     },
     "execution_count": 3,
     "metadata": {},
     "output_type": "execute_result"
    }
   ],
   "source": [
    "prediction"
   ]
  },
  {
   "cell_type": "code",
   "execution_count": 6,
   "id": "8008834c",
   "metadata": {},
   "outputs": [
    {
     "data": {
      "text/plain": [
       "<_io.BufferedRandom name='/Data/deepakkumar/Subham_work/downloads/eng_sad.wav'>"
      ]
     },
     "execution_count": 6,
     "metadata": {},
     "output_type": "execute_result"
    }
   ],
   "source": [
    "from pydub import AudioSegment\n",
    "\n",
    "# Load audio\n",
    "audio = AudioSegment.from_file(\"/Data/deepakkumar/Subham_work/downloads/eng_sad.mp3\")\n",
    "\n",
    "# Define segment (in milliseconds)\n",
    "start_time = 0* 1000  # 30 sec\n",
    "end_time = 10* 1000    # 50 sec\n",
    "\n",
    "# Extract segment\n",
    "segment = audio[start_time:end_time]\n",
    "\n",
    "# Save it\n",
    "segment.export(\"/Data/deepakkumar/Subham_work/downloads/eng_sad.wav\", format=\"wav\")\n"
   ]
  },
  {
   "cell_type": "code",
   "execution_count": null,
   "id": "c1f079f5",
   "metadata": {},
   "outputs": [],
   "source": [
    "!pip install pydub"
   ]
  },
  {
   "cell_type": "code",
   "execution_count": 2,
   "id": "df601a75",
   "metadata": {},
   "outputs": [
    {
     "name": "stderr",
     "output_type": "stream",
     "text": [
      "2025-09-13 20:46:06.973481: I tensorflow/core/util/port.cc:110] oneDNN custom operations are on. You may see slightly different numerical results due to floating-point round-off errors from different computation orders. To turn them off, set the environment variable `TF_ENABLE_ONEDNN_OPTS=0`.\n",
      "2025-09-13 20:46:07.030629: I tensorflow/core/platform/cpu_feature_guard.cc:182] This TensorFlow binary is optimized to use available CPU instructions in performance-critical operations.\n",
      "To enable the following instructions: AVX2 AVX512F AVX512_VNNI FMA, in other operations, rebuild TensorFlow with the appropriate compiler flags.\n",
      "2025-09-13 20:46:08.006042: W tensorflow/compiler/tf2tensorrt/utils/py_utils.cc:38] TF-TRT Warning: Could not find TensorRT\n"
     ]
    },
    {
     "name": "stdout",
     "output_type": "stream",
     "text": [
      "WARNING:tensorflow:From /Data/deepakkumar/miniconda3/envs/llama_ex/lib/python3.10/site-packages/spleeter/separator.py:65: RunConfig.__init__ (from tensorflow_estimator.python.estimator.run_config) is deprecated and will be removed in a future version.\n",
      "Instructions for updating:\n",
      "Use tf.keras instead.\n",
      "WARNING:tensorflow:From /Data/deepakkumar/miniconda3/envs/llama_ex/lib/python3.10/site-packages/spleeter/separator.py:67: Estimator.__init__ (from tensorflow_estimator.python.estimator.estimator) is deprecated and will be removed in a future version.\n",
      "Instructions for updating:\n",
      "Use tf.keras instead.\n",
      "INFO:tensorflow:Using config: {'_model_dir': 'pretrained_models/2stems', '_tf_random_seed': None, '_save_summary_steps': 100, '_save_checkpoints_steps': None, '_save_checkpoints_secs': 600, '_session_config': gpu_options {\n",
      "  per_process_gpu_memory_fraction: 0.7\n",
      "}\n",
      ", '_keep_checkpoint_max': 5, '_keep_checkpoint_every_n_hours': 10000, '_log_step_count_steps': 100, '_train_distribute': None, '_device_fn': None, '_protocol': None, '_eval_distribute': None, '_experimental_distribute': None, '_experimental_max_worker_delay_secs': None, '_session_creation_timeout_secs': 7200, '_checkpoint_save_graph_def': True, '_service': None, '_cluster_spec': ClusterSpec({}), '_task_type': 'worker', '_task_id': 0, '_global_id_in_cluster': 0, '_master': '', '_evaluation_master': '', '_is_chief': True, '_num_ps_replicas': 0, '_num_worker_replicas': 1}\n",
      "INFO:tensorflow:Calling model_fn.\n",
      "INFO:tensorflow:Apply unet for vocals_spectrogram\n",
      "WARNING:tensorflow:From /Data/deepakkumar/miniconda3/envs/llama_ex/lib/python3.10/site-packages/keras/layers/normalization/batch_normalization.py:581: _colocate_with (from tensorflow.python.framework.ops) is deprecated and will be removed in a future version.\n",
      "Instructions for updating:\n",
      "Colocations handled automatically by placer.\n"
     ]
    },
    {
     "name": "stderr",
     "output_type": "stream",
     "text": [
      "2025-09-13 20:46:11.347203: W tensorflow/core/common_runtime/gpu/gpu_device.cc:1956] Cannot dlopen some GPU libraries. Please make sure the missing libraries mentioned above are installed properly if you would like to use GPU. Follow the guide at https://www.tensorflow.org/install/gpu for how to download and setup the required libraries for your platform.\n",
      "Skipping registering GPU devices...\n"
     ]
    },
    {
     "name": "stdout",
     "output_type": "stream",
     "text": [
      "INFO:tensorflow:Apply unet for accompaniment_spectrogram\n",
      "WARNING:tensorflow:From /Data/deepakkumar/miniconda3/envs/llama_ex/lib/python3.10/site-packages/spleeter/model/__init__.py:524: EstimatorSpec.__new__ (from tensorflow_estimator.python.estimator.model_fn) is deprecated and will be removed in a future version.\n",
      "Instructions for updating:\n",
      "Use tf.keras instead.\n",
      "WARNING:tensorflow:From /Data/deepakkumar/miniconda3/envs/llama_ex/lib/python3.10/site-packages/tensorflow/python/saved_model/model_utils/export_utils.py:366: PredictOutput.__init__ (from tensorflow.python.saved_model.model_utils.export_output) is deprecated and will be removed in a future version.\n",
      "Instructions for updating:\n",
      "Use tf.keras instead.\n",
      "INFO:tensorflow:Done calling model_fn.\n",
      "INFO:tensorflow:Graph was finalized.\n",
      "INFO:tensorflow:Restoring parameters from pretrained_models/2stems/model\n"
     ]
    },
    {
     "name": "stderr",
     "output_type": "stream",
     "text": [
      "2025-09-13 20:46:15.662696: W tensorflow/core/common_runtime/gpu/gpu_device.cc:1956] Cannot dlopen some GPU libraries. Please make sure the missing libraries mentioned above are installed properly if you would like to use GPU. Follow the guide at https://www.tensorflow.org/install/gpu for how to download and setup the required libraries for your platform.\n",
      "Skipping registering GPU devices...\n",
      "2025-09-13 20:46:15.749558: I tensorflow/compiler/mlir/mlir_graph_optimization_pass.cc:353] MLIR V1 optimization pass is not enabled\n"
     ]
    },
    {
     "name": "stdout",
     "output_type": "stream",
     "text": [
      "INFO:tensorflow:Running local_init_op.\n",
      "INFO:tensorflow:Done running local_init_op.\n",
      "WARNING:tensorflow:From /Data/deepakkumar/miniconda3/envs/llama_ex/lib/python3.10/site-packages/tensorflow/python/training/monitored_session.py:1455: SessionRunArgs.__new__ (from tensorflow.python.training.session_run_hook) is deprecated and will be removed in a future version.\n",
      "Instructions for updating:\n",
      "Use tf.keras instead.\n",
      "WARNING:tensorflow:From /Data/deepakkumar/miniconda3/envs/llama_ex/lib/python3.10/site-packages/tensorflow/python/training/monitored_session.py:1454: SessionRunContext.__init__ (from tensorflow.python.training.session_run_hook) is deprecated and will be removed in a future version.\n",
      "Instructions for updating:\n",
      "Use tf.keras instead.\n"
     ]
    },
    {
     "name": "stderr",
     "output_type": "stream",
     "text": [
      "2025-09-13 20:46:16.717285: I tensorflow/core/common_runtime/executor.cc:1197] [/device:CPU:0] (DEBUG INFO) Executor start aborting (this does not indicate an error and you can ignore this message): INVALID_ARGUMENT: You must feed a value for placeholder tensor 'Placeholder/_1' with dtype float and shape [1180161,2]\n",
      "\t [[{{node Placeholder/_1}}]]\n"
     ]
    },
    {
     "name": "stdout",
     "output_type": "stream",
     "text": [
      "WARNING:tensorflow:From /Data/deepakkumar/miniconda3/envs/llama_ex/lib/python3.10/site-packages/tensorflow/python/training/monitored_session.py:1474: SessionRunValues.__new__ (from tensorflow.python.training.session_run_hook) is deprecated and will be removed in a future version.\n",
      "Instructions for updating:\n",
      "Use tf.keras instead.\n",
      "INFO:spleeter:File /Data/deepakkumar/Subham_work/downloads/comdey/vocals.wav written succesfully\n",
      "INFO:spleeter:File /Data/deepakkumar/Subham_work/downloads/comdey/accompaniment.wav written succesfully\n"
     ]
    }
   ],
   "source": [
    "from spleeter.separator import Separator\n",
    "\n",
    "# 2 stems = vocals + accompaniment\n",
    "separator = Separator('spleeter:2stems')\n",
    "separator.separate_to_file(\"/Data/deepakkumar/Subham_work/downloads/comdey.mp3\", \"/Data/deepakkumar/Subham_work/downloads/\")\n",
    "\n"
   ]
  },
  {
   "cell_type": "code",
   "execution_count": null,
   "id": "b0742060",
   "metadata": {},
   "outputs": [],
   "source": []
  }
 ],
 "metadata": {
  "kernelspec": {
   "display_name": "llama_ex",
   "language": "python",
   "name": "python3"
  },
  "language_info": {
   "codemirror_mode": {
    "name": "ipython",
    "version": 3
   },
   "file_extension": ".py",
   "mimetype": "text/x-python",
   "name": "python",
   "nbconvert_exporter": "python",
   "pygments_lexer": "ipython3",
   "version": "3.10.18"
  }
 },
 "nbformat": 4,
 "nbformat_minor": 5
}
