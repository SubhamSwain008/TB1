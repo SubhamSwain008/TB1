{
 "cells": [
  {
   "cell_type": "code",
   "execution_count": 1,
   "id": "1934845e",
   "metadata": {},
   "outputs": [
    {
     "data": {
      "application/vnd.jupyter.widget-view+json": {
       "model_id": "2f81f94ab8144c7eadf7ba9b2773b4e9",
       "version_major": 2,
       "version_minor": 0
      },
      "text/plain": [
       "config.json: 0.00B [00:00, ?B/s]"
      ]
     },
     "metadata": {},
     "output_type": "display_data"
    },
    {
     "data": {
      "application/vnd.jupyter.widget-view+json": {
       "model_id": "c106e785ab7c48028c9c17ac12b6e132",
       "version_major": 2,
       "version_minor": 0
      },
      "text/plain": [
       "model.safetensors:   0%|          | 0.00/2.55G [00:00<?, ?B/s]"
      ]
     },
     "metadata": {},
     "output_type": "display_data"
    },
    {
     "data": {
      "application/vnd.jupyter.widget-view+json": {
       "model_id": "4fa608a86ac94e3da32147873b8c862d",
       "version_major": 2,
       "version_minor": 0
      },
      "text/plain": [
       "preprocessor_config.json:   0%|          | 0.00/340 [00:00<?, ?B/s]"
      ]
     },
     "metadata": {},
     "output_type": "display_data"
    }
   ],
   "source": [
    "# Requires: librosa\n",
    "from transformers import AutoModelForAudioClassification, AutoFeatureExtractor\n",
    "import librosa\n",
    "import torch\n",
    "import numpy as np\n",
    "\n",
    "model_id = \"firdhokk/speech-emotion-recognition-with-openai-whisper-large-v3\"\n",
    "model = AutoModelForAudioClassification.from_pretrained(model_id)\n",
    "\n",
    "feature_extractor = AutoFeatureExtractor.from_pretrained(model_id, do_normalize=True)\n",
    "id2label = model.config.id2label\n"
   ]
  },
  {
   "cell_type": "code",
   "execution_count": 2,
   "id": "c59788cd",
   "metadata": {},
   "outputs": [],
   "source": [
    "def preprocess_audio(audio_path, feature_extractor, max_duration=30.0):\n",
    "    audio_array, sampling_rate = librosa.load(audio_path, sr=feature_extractor.sampling_rate)\n",
    "    \n",
    "    max_length = int(feature_extractor.sampling_rate * max_duration)\n",
    "    if len(audio_array) > max_length:\n",
    "        audio_array = audio_array[:max_length]\n",
    "    else:\n",
    "        audio_array = np.pad(audio_array, (0, max_length - len(audio_array)))\n",
    "\n",
    "    inputs = feature_extractor(\n",
    "        audio_array,\n",
    "        sampling_rate=feature_extractor.sampling_rate,\n",
    "        max_length=max_length,\n",
    "        truncation=True,\n",
    "        return_tensors=\"pt\",\n",
    "    )\n",
    "    return inputs\n"
   ]
  },
  {
   "cell_type": "code",
   "execution_count": 6,
   "id": "93ba5ff6",
   "metadata": {},
   "outputs": [],
   "source": [
    "def predict_emotion(audio_path, model, feature_extractor, id2label, max_duration=30.0):\n",
    "    inputs = preprocess_audio(audio_path, feature_extractor, max_duration)\n",
    "    \n",
    "    device = torch.device(\"cuda\" if torch.cuda.is_available() else \"cpu\")\n",
    "    model = model.to(device)\n",
    "    inputs = {key: value.to(device) for key, value in inputs.items()}\n",
    "\n",
    "    with torch.no_grad():\n",
    "        outputs = model(**inputs)\n",
    "\n",
    "    logits = outputs.logits\n",
    "    predicted_id = torch.argmax(logits, dim=-1).item()\n",
    "    predicted_label = id2label[predicted_id]\n",
    "    \n",
    "    return predicted_label\n"
   ]
  },
  {
   "cell_type": "code",
   "execution_count": 7,
   "id": "0ade046f",
   "metadata": {},
   "outputs": [
    {
     "name": "stdout",
     "output_type": "stream",
     "text": [
      "Predicted Emotion: fearful\n"
     ]
    }
   ],
   "source": [
    "audio_path = \"/Data/deepakkumar/Subham_work/downloads/sad.wav\"\n",
    "\n",
    "predicted_emotion = predict_emotion(audio_path, model, feature_extractor, id2label)\n",
    "print(f\"Predicted Emotion: {predicted_emotion}\")\n"
   ]
  },
  {
   "cell_type": "code",
   "execution_count": null,
   "id": "63dd0678",
   "metadata": {},
   "outputs": [],
   "source": []
  }
 ],
 "metadata": {
  "kernelspec": {
   "display_name": "llama_ex",
   "language": "python",
   "name": "python3"
  },
  "language_info": {
   "codemirror_mode": {
    "name": "ipython",
    "version": 3
   },
   "file_extension": ".py",
   "mimetype": "text/x-python",
   "name": "python",
   "nbconvert_exporter": "python",
   "pygments_lexer": "ipython3",
   "version": "3.10.18"
  }
 },
 "nbformat": 4,
 "nbformat_minor": 5
}
